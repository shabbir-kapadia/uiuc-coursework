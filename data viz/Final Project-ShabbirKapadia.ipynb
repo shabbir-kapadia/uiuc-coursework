{
 "cells": [
  {
   "cell_type": "markdown",
   "metadata": {},
   "source": []
  },
  {
   "cell_type": "code",
   "execution_count": 1,
   "metadata": {},
   "outputs": [],
   "source": [
    "import json\n",
    "import cartopy\n",
    "import pandas as pd\n",
    "import matplotlib.pyplot as plt\n",
    "import numpy as np\n",
    "from sklearn import preprocessing"
   ]
  },
  {
   "cell_type": "code",
   "execution_count": 2,
   "metadata": {},
   "outputs": [],
   "source": [
    "with open(\"Earth Meteorite Landings.json\") as f:\n",
    "    data = json.load(f)"
   ]
  },
  {
   "cell_type": "code",
   "execution_count": 3,
   "metadata": {},
   "outputs": [],
   "source": [
    "# print(json.dumps(data, indent=2))"
   ]
  },
  {
   "cell_type": "code",
   "execution_count": 4,
   "metadata": {},
   "outputs": [
    {
     "data": {
      "text/plain": [
       "{'name': 'Aachen',\n",
       " 'id': '1',\n",
       " 'nametype': 'Valid',\n",
       " 'recclass': 'L5',\n",
       " 'mass': '21',\n",
       " 'fall': 'Fell',\n",
       " 'year': '1880-01-01T00:00:00.000',\n",
       " 'reclat': '50.775000',\n",
       " 'reclong': '6.083330',\n",
       " 'geolocation': {'latitude': '50.775', 'longitude': '6.08333'}}"
      ]
     },
     "execution_count": 4,
     "metadata": {},
     "output_type": "execute_result"
    }
   ],
   "source": [
    "data[0]"
   ]
  },
  {
   "cell_type": "code",
   "execution_count": 5,
   "metadata": {},
   "outputs": [],
   "source": [
    "df = pd.DataFrame(data)\n",
    "df = df.drop([\":@computed_region_cbhk_fwbd\", \":@computed_region_nnqa_25f4\"], axis=1)\n",
    "df = df.astype(str)"
   ]
  },
  {
   "cell_type": "code",
   "execution_count": 6,
   "metadata": {},
   "outputs": [
    {
     "data": {
      "text/plain": [
       "nan                   28\n",
       "4000                  15\n",
       "1000                  14\n",
       "6000                  13\n",
       "2000                  13\n",
       "                      ..\n",
       "72.900000000000006     1\n",
       "13200                  1\n",
       "9700                   1\n",
       "36.1                   1\n",
       "224.2                  1\n",
       "Name: mass, Length: 640, dtype: int64"
      ]
     },
     "execution_count": 6,
     "metadata": {},
     "output_type": "execute_result"
    }
   ],
   "source": [
    "# df['mass']\n",
    "df.mass.value_counts()"
   ]
  },
  {
   "cell_type": "code",
   "execution_count": 7,
   "metadata": {},
   "outputs": [
    {
     "data": {
      "text/html": [
       "<div>\n",
       "<style scoped>\n",
       "    .dataframe tbody tr th:only-of-type {\n",
       "        vertical-align: middle;\n",
       "    }\n",
       "\n",
       "    .dataframe tbody tr th {\n",
       "        vertical-align: top;\n",
       "    }\n",
       "\n",
       "    .dataframe thead th {\n",
       "        text-align: right;\n",
       "    }\n",
       "</style>\n",
       "<table border=\"1\" class=\"dataframe\">\n",
       "  <thead>\n",
       "    <tr style=\"text-align: right;\">\n",
       "      <th></th>\n",
       "      <th>name</th>\n",
       "      <th>id</th>\n",
       "      <th>nametype</th>\n",
       "      <th>recclass</th>\n",
       "      <th>mass</th>\n",
       "      <th>fall</th>\n",
       "      <th>year</th>\n",
       "      <th>reclat</th>\n",
       "      <th>reclong</th>\n",
       "      <th>geolocation</th>\n",
       "    </tr>\n",
       "  </thead>\n",
       "  <tbody>\n",
       "    <tr>\n",
       "      <th>0</th>\n",
       "      <td>Aachen</td>\n",
       "      <td>1</td>\n",
       "      <td>Valid</td>\n",
       "      <td>L5</td>\n",
       "      <td>21</td>\n",
       "      <td>Fell</td>\n",
       "      <td>1880</td>\n",
       "      <td>50.775000</td>\n",
       "      <td>6.083330</td>\n",
       "      <td>{'latitude': '50.775', 'longitude': '6.08333'}</td>\n",
       "    </tr>\n",
       "    <tr>\n",
       "      <th>1</th>\n",
       "      <td>Aarhus</td>\n",
       "      <td>2</td>\n",
       "      <td>Valid</td>\n",
       "      <td>H6</td>\n",
       "      <td>720</td>\n",
       "      <td>Fell</td>\n",
       "      <td>1951</td>\n",
       "      <td>56.183330</td>\n",
       "      <td>10.233330</td>\n",
       "      <td>{'latitude': '56.18333', 'longitude': '10.23333'}</td>\n",
       "    </tr>\n",
       "    <tr>\n",
       "      <th>2</th>\n",
       "      <td>Abee</td>\n",
       "      <td>6</td>\n",
       "      <td>Valid</td>\n",
       "      <td>EH4</td>\n",
       "      <td>107000</td>\n",
       "      <td>Fell</td>\n",
       "      <td>1952</td>\n",
       "      <td>54.216670</td>\n",
       "      <td>-113.000000</td>\n",
       "      <td>{'latitude': '54.21667', 'longitude': '-113.0'}</td>\n",
       "    </tr>\n",
       "    <tr>\n",
       "      <th>3</th>\n",
       "      <td>Acapulco</td>\n",
       "      <td>10</td>\n",
       "      <td>Valid</td>\n",
       "      <td>Acapulcoite</td>\n",
       "      <td>1914</td>\n",
       "      <td>Fell</td>\n",
       "      <td>1976</td>\n",
       "      <td>16.883330</td>\n",
       "      <td>-99.900000</td>\n",
       "      <td>{'latitude': '16.88333', 'longitude': '-99.9'}</td>\n",
       "    </tr>\n",
       "    <tr>\n",
       "      <th>4</th>\n",
       "      <td>Achiras</td>\n",
       "      <td>370</td>\n",
       "      <td>Valid</td>\n",
       "      <td>L6</td>\n",
       "      <td>780</td>\n",
       "      <td>Fell</td>\n",
       "      <td>1902</td>\n",
       "      <td>-33.166670</td>\n",
       "      <td>-64.950000</td>\n",
       "      <td>{'latitude': '-33.16667', 'longitude': '-64.95'}</td>\n",
       "    </tr>\n",
       "    <tr>\n",
       "      <th>...</th>\n",
       "      <td>...</td>\n",
       "      <td>...</td>\n",
       "      <td>...</td>\n",
       "      <td>...</td>\n",
       "      <td>...</td>\n",
       "      <td>...</td>\n",
       "      <td>...</td>\n",
       "      <td>...</td>\n",
       "      <td>...</td>\n",
       "      <td>...</td>\n",
       "    </tr>\n",
       "    <tr>\n",
       "      <th>995</th>\n",
       "      <td>Tirupati</td>\n",
       "      <td>24009</td>\n",
       "      <td>Valid</td>\n",
       "      <td>H6</td>\n",
       "      <td>230</td>\n",
       "      <td>Fell</td>\n",
       "      <td>1934</td>\n",
       "      <td>13.633330</td>\n",
       "      <td>79.416670</td>\n",
       "      <td>{'latitude': '13.63333', 'longitude': '79.41667'}</td>\n",
       "    </tr>\n",
       "    <tr>\n",
       "      <th>996</th>\n",
       "      <td>Tissint</td>\n",
       "      <td>54823</td>\n",
       "      <td>Valid</td>\n",
       "      <td>Martian (shergottite)</td>\n",
       "      <td>7000</td>\n",
       "      <td>Fell</td>\n",
       "      <td>2011</td>\n",
       "      <td>29.481950</td>\n",
       "      <td>-7.611230</td>\n",
       "      <td>{'latitude': '29.48195', 'longitude': '-7.61123'}</td>\n",
       "    </tr>\n",
       "    <tr>\n",
       "      <th>997</th>\n",
       "      <td>Tjabe</td>\n",
       "      <td>24011</td>\n",
       "      <td>Valid</td>\n",
       "      <td>H6</td>\n",
       "      <td>20000</td>\n",
       "      <td>Fell</td>\n",
       "      <td>1869</td>\n",
       "      <td>-7.083330</td>\n",
       "      <td>111.533330</td>\n",
       "      <td>{'latitude': '-7.08333', 'longitude': '111.533...</td>\n",
       "    </tr>\n",
       "    <tr>\n",
       "      <th>998</th>\n",
       "      <td>Tjerebon</td>\n",
       "      <td>24012</td>\n",
       "      <td>Valid</td>\n",
       "      <td>L5</td>\n",
       "      <td>16500</td>\n",
       "      <td>Fell</td>\n",
       "      <td>1922</td>\n",
       "      <td>-6.666670</td>\n",
       "      <td>106.583330</td>\n",
       "      <td>{'latitude': '-6.66667', 'longitude': '106.583...</td>\n",
       "    </tr>\n",
       "    <tr>\n",
       "      <th>999</th>\n",
       "      <td>Tomakovka</td>\n",
       "      <td>24019</td>\n",
       "      <td>Valid</td>\n",
       "      <td>LL6</td>\n",
       "      <td>600</td>\n",
       "      <td>Fell</td>\n",
       "      <td>1905</td>\n",
       "      <td>47.850000</td>\n",
       "      <td>34.766670</td>\n",
       "      <td>{'latitude': '47.85', 'longitude': '34.76667'}</td>\n",
       "    </tr>\n",
       "  </tbody>\n",
       "</table>\n",
       "<p>972 rows × 10 columns</p>\n",
       "</div>"
      ],
      "text/plain": [
       "          name     id nametype               recclass    mass  fall  year  \\\n",
       "0       Aachen      1    Valid                     L5      21  Fell  1880   \n",
       "1       Aarhus      2    Valid                     H6     720  Fell  1951   \n",
       "2         Abee      6    Valid                    EH4  107000  Fell  1952   \n",
       "3     Acapulco     10    Valid            Acapulcoite    1914  Fell  1976   \n",
       "4      Achiras    370    Valid                     L6     780  Fell  1902   \n",
       "..         ...    ...      ...                    ...     ...   ...   ...   \n",
       "995   Tirupati  24009    Valid                     H6     230  Fell  1934   \n",
       "996    Tissint  54823    Valid  Martian (shergottite)    7000  Fell  2011   \n",
       "997      Tjabe  24011    Valid                     H6   20000  Fell  1869   \n",
       "998   Tjerebon  24012    Valid                     L5   16500  Fell  1922   \n",
       "999  Tomakovka  24019    Valid                    LL6     600  Fell  1905   \n",
       "\n",
       "         reclat      reclong  \\\n",
       "0     50.775000     6.083330   \n",
       "1     56.183330    10.233330   \n",
       "2     54.216670  -113.000000   \n",
       "3     16.883330   -99.900000   \n",
       "4    -33.166670   -64.950000   \n",
       "..          ...          ...   \n",
       "995   13.633330    79.416670   \n",
       "996   29.481950    -7.611230   \n",
       "997   -7.083330   111.533330   \n",
       "998   -6.666670   106.583330   \n",
       "999   47.850000    34.766670   \n",
       "\n",
       "                                           geolocation  \n",
       "0       {'latitude': '50.775', 'longitude': '6.08333'}  \n",
       "1    {'latitude': '56.18333', 'longitude': '10.23333'}  \n",
       "2      {'latitude': '54.21667', 'longitude': '-113.0'}  \n",
       "3       {'latitude': '16.88333', 'longitude': '-99.9'}  \n",
       "4     {'latitude': '-33.16667', 'longitude': '-64.95'}  \n",
       "..                                                 ...  \n",
       "995  {'latitude': '13.63333', 'longitude': '79.41667'}  \n",
       "996  {'latitude': '29.48195', 'longitude': '-7.61123'}  \n",
       "997  {'latitude': '-7.08333', 'longitude': '111.533...  \n",
       "998  {'latitude': '-6.66667', 'longitude': '106.583...  \n",
       "999     {'latitude': '47.85', 'longitude': '34.76667'}  \n",
       "\n",
       "[972 rows x 10 columns]"
      ]
     },
     "execution_count": 7,
     "metadata": {},
     "output_type": "execute_result"
    }
   ],
   "source": [
    "new_df = df.drop(df[df.mass == 'nan'].index)\n",
    "new_df['year'] = new_df['year'].astype(str)\n",
    "new_df = new_df.drop(new_df[new_df.year == '<NA>'].index)\n",
    "# new_df.mass.value_counts()\n",
    "new_df[\"mass\"] = np.floor(pd.to_numeric(new_df[\"mass\"], errors='coerce')).astype('Int64')\n",
    "# new_df = new_df[new_df[\"mass\"] > 500000]\n",
    "# new_df.mass.value_counts()\n",
    "\n",
    "new_df['year'] = pd.to_datetime(df['year'], errors = 'coerce')\n",
    "new_df['year'] = new_df['year'].dt.year.astype('Int64')\n",
    "new_df"
   ]
  },
  {
   "cell_type": "code",
   "execution_count": 8,
   "metadata": {},
   "outputs": [
    {
     "data": {
      "text/plain": [
       "<AxesSubplot:title={'center':'Amounts of meteorites (top five)'}, xlabel='year'>"
      ]
     },
     "execution_count": 8,
     "metadata": {},
     "output_type": "execute_result"
    },
    {
     "data": {
      "image/png": "[encoded data removed]",
      "text/plain": [
       "<Figure size 720x360 with 1 Axes>"
      ]
     },
     "metadata": {
      "needs_background": "light"
     },
     "output_type": "display_data"
    }
   ],
   "source": [
    "amounts_by_year_top_five_df = new_df.year.value_counts().rename_axis('year').reset_index(name='counts')\n",
    "amounts_by_year_top_five_df = amounts_by_year_top_five_df.nlargest(5, 'counts', keep='first')\n",
    "amounts_by_year_top_five_df = amounts_by_year_top_five_df.set_index('year')\n",
    "amounts_by_year_top_five_df = amounts_by_year_top_five_df.sort_values(by=['year'])\n",
    "amounts_by_year_top_five_df['counts'].plot(kind='bar', grid=True, figsize=(10,5), ylim=(5, 20), title='Amounts of meteorites (top five)')\n"
   ]
  },
  {
   "cell_type": "code",
   "execution_count": 9,
   "metadata": {},
   "outputs": [
    {
     "data": {
      "text/html": [
       "<div>\n",
       "<style scoped>\n",
       "    .dataframe tbody tr th:only-of-type {\n",
       "        vertical-align: middle;\n",
       "    }\n",
       "\n",
       "    .dataframe tbody tr th {\n",
       "        vertical-align: top;\n",
       "    }\n",
       "\n",
       "    .dataframe thead th {\n",
       "        text-align: right;\n",
       "    }\n",
       "</style>\n",
       "<table border=\"1\" class=\"dataframe\">\n",
       "  <thead>\n",
       "    <tr style=\"text-align: right;\">\n",
       "      <th></th>\n",
       "      <th>name</th>\n",
       "      <th>id</th>\n",
       "      <th>nametype</th>\n",
       "      <th>recclass</th>\n",
       "      <th>mass</th>\n",
       "      <th>fall</th>\n",
       "      <th>year</th>\n",
       "      <th>reclat</th>\n",
       "      <th>reclong</th>\n",
       "      <th>geolocation</th>\n",
       "      <th>amounts_by_year</th>\n",
       "    </tr>\n",
       "  </thead>\n",
       "  <tbody>\n",
       "    <tr>\n",
       "      <th>0</th>\n",
       "      <td>Aachen</td>\n",
       "      <td>1</td>\n",
       "      <td>Valid</td>\n",
       "      <td>L5</td>\n",
       "      <td>21</td>\n",
       "      <td>Fell</td>\n",
       "      <td>1880</td>\n",
       "      <td>50.775000</td>\n",
       "      <td>6.083330</td>\n",
       "      <td>{'latitude': '50.775', 'longitude': '6.08333'}</td>\n",
       "      <td>5</td>\n",
       "    </tr>\n",
       "    <tr>\n",
       "      <th>1</th>\n",
       "      <td>Aarhus</td>\n",
       "      <td>2</td>\n",
       "      <td>Valid</td>\n",
       "      <td>H6</td>\n",
       "      <td>720</td>\n",
       "      <td>Fell</td>\n",
       "      <td>1951</td>\n",
       "      <td>56.183330</td>\n",
       "      <td>10.233330</td>\n",
       "      <td>{'latitude': '56.18333', 'longitude': '10.23333'}</td>\n",
       "      <td>5</td>\n",
       "    </tr>\n",
       "    <tr>\n",
       "      <th>2</th>\n",
       "      <td>Abee</td>\n",
       "      <td>6</td>\n",
       "      <td>Valid</td>\n",
       "      <td>EH4</td>\n",
       "      <td>107000</td>\n",
       "      <td>Fell</td>\n",
       "      <td>1952</td>\n",
       "      <td>54.216670</td>\n",
       "      <td>-113.000000</td>\n",
       "      <td>{'latitude': '54.21667', 'longitude': '-113.0'}</td>\n",
       "      <td>5</td>\n",
       "    </tr>\n",
       "    <tr>\n",
       "      <th>3</th>\n",
       "      <td>Acapulco</td>\n",
       "      <td>10</td>\n",
       "      <td>Valid</td>\n",
       "      <td>Acapulcoite</td>\n",
       "      <td>1914</td>\n",
       "      <td>Fell</td>\n",
       "      <td>1976</td>\n",
       "      <td>16.883330</td>\n",
       "      <td>-99.900000</td>\n",
       "      <td>{'latitude': '16.88333', 'longitude': '-99.9'}</td>\n",
       "      <td>9</td>\n",
       "    </tr>\n",
       "    <tr>\n",
       "      <th>4</th>\n",
       "      <td>Achiras</td>\n",
       "      <td>370</td>\n",
       "      <td>Valid</td>\n",
       "      <td>L6</td>\n",
       "      <td>780</td>\n",
       "      <td>Fell</td>\n",
       "      <td>1902</td>\n",
       "      <td>-33.166670</td>\n",
       "      <td>-64.950000</td>\n",
       "      <td>{'latitude': '-33.16667', 'longitude': '-64.95'}</td>\n",
       "      <td>7</td>\n",
       "    </tr>\n",
       "    <tr>\n",
       "      <th>...</th>\n",
       "      <td>...</td>\n",
       "      <td>...</td>\n",
       "      <td>...</td>\n",
       "      <td>...</td>\n",
       "      <td>...</td>\n",
       "      <td>...</td>\n",
       "      <td>...</td>\n",
       "      <td>...</td>\n",
       "      <td>...</td>\n",
       "      <td>...</td>\n",
       "      <td>...</td>\n",
       "    </tr>\n",
       "    <tr>\n",
       "      <th>995</th>\n",
       "      <td>Tirupati</td>\n",
       "      <td>24009</td>\n",
       "      <td>Valid</td>\n",
       "      <td>H6</td>\n",
       "      <td>230</td>\n",
       "      <td>Fell</td>\n",
       "      <td>1934</td>\n",
       "      <td>13.633330</td>\n",
       "      <td>79.416670</td>\n",
       "      <td>{'latitude': '13.63333', 'longitude': '79.41667'}</td>\n",
       "      <td>10</td>\n",
       "    </tr>\n",
       "    <tr>\n",
       "      <th>996</th>\n",
       "      <td>Tissint</td>\n",
       "      <td>54823</td>\n",
       "      <td>Valid</td>\n",
       "      <td>Martian (shergottite)</td>\n",
       "      <td>7000</td>\n",
       "      <td>Fell</td>\n",
       "      <td>2011</td>\n",
       "      <td>29.481950</td>\n",
       "      <td>-7.611230</td>\n",
       "      <td>{'latitude': '29.48195', 'longitude': '-7.61123'}</td>\n",
       "      <td>4</td>\n",
       "    </tr>\n",
       "    <tr>\n",
       "      <th>997</th>\n",
       "      <td>Tjabe</td>\n",
       "      <td>24011</td>\n",
       "      <td>Valid</td>\n",
       "      <td>H6</td>\n",
       "      <td>20000</td>\n",
       "      <td>Fell</td>\n",
       "      <td>1869</td>\n",
       "      <td>-7.083330</td>\n",
       "      <td>111.533330</td>\n",
       "      <td>{'latitude': '-7.08333', 'longitude': '111.533...</td>\n",
       "      <td>6</td>\n",
       "    </tr>\n",
       "    <tr>\n",
       "      <th>998</th>\n",
       "      <td>Tjerebon</td>\n",
       "      <td>24012</td>\n",
       "      <td>Valid</td>\n",
       "      <td>L5</td>\n",
       "      <td>16500</td>\n",
       "      <td>Fell</td>\n",
       "      <td>1922</td>\n",
       "      <td>-6.666670</td>\n",
       "      <td>106.583330</td>\n",
       "      <td>{'latitude': '-6.66667', 'longitude': '106.583...</td>\n",
       "      <td>6</td>\n",
       "    </tr>\n",
       "    <tr>\n",
       "      <th>999</th>\n",
       "      <td>Tomakovka</td>\n",
       "      <td>24019</td>\n",
       "      <td>Valid</td>\n",
       "      <td>LL6</td>\n",
       "      <td>600</td>\n",
       "      <td>Fell</td>\n",
       "      <td>1905</td>\n",
       "      <td>47.850000</td>\n",
       "      <td>34.766670</td>\n",
       "      <td>{'latitude': '47.85', 'longitude': '34.76667'}</td>\n",
       "      <td>5</td>\n",
       "    </tr>\n",
       "  </tbody>\n",
       "</table>\n",
       "<p>960 rows × 11 columns</p>\n",
       "</div>"
      ],
      "text/plain": [
       "          name     id nametype               recclass    mass  fall  year  \\\n",
       "0       Aachen      1    Valid                     L5      21  Fell  1880   \n",
       "1       Aarhus      2    Valid                     H6     720  Fell  1951   \n",
       "2         Abee      6    Valid                    EH4  107000  Fell  1952   \n",
       "3     Acapulco     10    Valid            Acapulcoite    1914  Fell  1976   \n",
       "4      Achiras    370    Valid                     L6     780  Fell  1902   \n",
       "..         ...    ...      ...                    ...     ...   ...   ...   \n",
       "995   Tirupati  24009    Valid                     H6     230  Fell  1934   \n",
       "996    Tissint  54823    Valid  Martian (shergottite)    7000  Fell  2011   \n",
       "997      Tjabe  24011    Valid                     H6   20000  Fell  1869   \n",
       "998   Tjerebon  24012    Valid                     L5   16500  Fell  1922   \n",
       "999  Tomakovka  24019    Valid                    LL6     600  Fell  1905   \n",
       "\n",
       "         reclat      reclong  \\\n",
       "0     50.775000     6.083330   \n",
       "1     56.183330    10.233330   \n",
       "2     54.216670  -113.000000   \n",
       "3     16.883330   -99.900000   \n",
       "4    -33.166670   -64.950000   \n",
       "..          ...          ...   \n",
       "995   13.633330    79.416670   \n",
       "996   29.481950    -7.611230   \n",
       "997   -7.083330   111.533330   \n",
       "998   -6.666670   106.583330   \n",
       "999   47.850000    34.766670   \n",
       "\n",
       "                                           geolocation  amounts_by_year  \n",
       "0       {'latitude': '50.775', 'longitude': '6.08333'}                5  \n",
       "1    {'latitude': '56.18333', 'longitude': '10.23333'}                5  \n",
       "2      {'latitude': '54.21667', 'longitude': '-113.0'}                5  \n",
       "3       {'latitude': '16.88333', 'longitude': '-99.9'}                9  \n",
       "4     {'latitude': '-33.16667', 'longitude': '-64.95'}                7  \n",
       "..                                                 ...              ...  \n",
       "995  {'latitude': '13.63333', 'longitude': '79.41667'}               10  \n",
       "996  {'latitude': '29.48195', 'longitude': '-7.61123'}                4  \n",
       "997  {'latitude': '-7.08333', 'longitude': '111.533...                6  \n",
       "998  {'latitude': '-6.66667', 'longitude': '106.583...                6  \n",
       "999     {'latitude': '47.85', 'longitude': '34.76667'}                5  \n",
       "\n",
       "[960 rows x 11 columns]"
      ]
     },
     "execution_count": 9,
     "metadata": {},
     "output_type": "execute_result"
    }
   ],
   "source": [
    "new_df['amounts_by_year'] = new_df.groupby(['year'])['year'].transform('count').astype('Int64')\n",
    "new_df = new_df.dropna()\n",
    "new_df"
   ]
  },
  {
   "cell_type": "code",
   "execution_count": 10,
   "metadata": {
    "scrolled": true
   },
   "outputs": [
    {
     "ename": "NameError",
     "evalue": "name 'mass_year_df' is not defined",
     "output_type": "error",
     "traceback": [
      "\u001b[0;31m---------------------------------------------------------------------------\u001b[0m",
      "\u001b[0;31mNameError\u001b[0m                                 Traceback (most recent call last)",
      "\u001b[0;32m<ipython-input-10-0bc971a7cb53>\u001b[0m in \u001b[0;36m<module>\u001b[0;34m\u001b[0m\n\u001b[0;32m----> 1\u001b[0;31m \u001b[0mmass_top_five_df\u001b[0m \u001b[0;34m=\u001b[0m \u001b[0mmass_year_df\u001b[0m\u001b[0;34m.\u001b[0m\u001b[0mnlargest\u001b[0m\u001b[0;34m(\u001b[0m\u001b[0;36m5\u001b[0m\u001b[0;34m,\u001b[0m \u001b[0;34m'mass'\u001b[0m\u001b[0;34m,\u001b[0m \u001b[0mkeep\u001b[0m\u001b[0;34m=\u001b[0m\u001b[0;34m'all'\u001b[0m\u001b[0;34m)\u001b[0m\u001b[0;34m\u001b[0m\u001b[0;34m\u001b[0m\u001b[0m\n\u001b[0m\u001b[1;32m      2\u001b[0m \u001b[0mmass_top_five_df\u001b[0m \u001b[0;34m=\u001b[0m \u001b[0mmass_top_five_df\u001b[0m\u001b[0;34m.\u001b[0m\u001b[0msort_values\u001b[0m\u001b[0;34m(\u001b[0m\u001b[0mby\u001b[0m\u001b[0;34m=\u001b[0m\u001b[0;34m[\u001b[0m\u001b[0;34m'year'\u001b[0m\u001b[0;34m]\u001b[0m\u001b[0;34m)\u001b[0m\u001b[0;34m\u001b[0m\u001b[0;34m\u001b[0m\u001b[0m\n\u001b[1;32m      3\u001b[0m \u001b[0mmass_top_five_df\u001b[0m\u001b[0;34m[\u001b[0m\u001b[0;34m'mass'\u001b[0m\u001b[0;34m]\u001b[0m\u001b[0;34m.\u001b[0m\u001b[0mplot\u001b[0m\u001b[0;34m(\u001b[0m\u001b[0mkind\u001b[0m\u001b[0;34m=\u001b[0m\u001b[0;34m'bar'\u001b[0m\u001b[0;34m,\u001b[0m \u001b[0mgrid\u001b[0m\u001b[0;34m=\u001b[0m\u001b[0;32mTrue\u001b[0m\u001b[0;34m,\u001b[0m \u001b[0mfigsize\u001b[0m\u001b[0;34m=\u001b[0m\u001b[0;34m(\u001b[0m\u001b[0;36m10\u001b[0m\u001b[0;34m,\u001b[0m\u001b[0;36m5\u001b[0m\u001b[0;34m)\u001b[0m\u001b[0;34m,\u001b[0m \u001b[0mylim\u001b[0m\u001b[0;34m=\u001b[0m\u001b[0;34m(\u001b[0m\u001b[0;36m40000\u001b[0m\u001b[0;34m,\u001b[0m \u001b[0;36m25000000\u001b[0m\u001b[0;34m)\u001b[0m\u001b[0;34m,\u001b[0m \u001b[0mtitle\u001b[0m\u001b[0;34m=\u001b[0m\u001b[0;34m'Mass of meteorites (top five)'\u001b[0m\u001b[0;34m)\u001b[0m\u001b[0;34m\u001b[0m\u001b[0;34m\u001b[0m\u001b[0m\n",
      "\u001b[0;31mNameError\u001b[0m: name 'mass_year_df' is not defined"
     ]
    }
   ],
   "source": [
    "mass_top_five_df = mass_year_df.nlargest(5, 'mass', keep='all')\n",
    "mass_top_five_df = mass_top_five_df.sort_values(by=['year'])\n",
    "mass_top_five_df['mass'].plot(kind='bar', grid=True, figsize=(10,5), ylim=(40000, 25000000), title='Mass of meteorites (top five)')"
   ]
  },
  {
   "cell_type": "code",
   "execution_count": null,
   "metadata": {},
   "outputs": [],
   "source": [
    "lat = []\n",
    "lon = []\n",
    "for i in range(len(new_df['reclat'])):\n",
    "    try:\n",
    "        lat.append(new_df['reclat'][i])\n",
    "        lon.append(new_df['reclong'][i])\n",
    "    except:\n",
    "        continue"
   ]
  },
  {
   "cell_type": "code",
   "execution_count": null,
   "metadata": {
    "scrolled": true
   },
   "outputs": [],
   "source": [
    "fig = plt.figure(dpi=300)\n",
    "ax = fig.add_subplot(111, projection=cartopy.crs.PlateCarree())\n",
    "ax.scatter([lon], [lat], s=0.5, color=\"red\")\n",
    "ax.coastlines()\n",
    "ax.set_title('Earth Meteorite Landings', fontsize=8)\n",
    "ax.set_global()"
   ]
  },
  {
   "cell_type": "code",
   "execution_count": null,
   "metadata": {},
   "outputs": [],
   "source": [
    "fig = plt.figure(figsize=(25,12))\n",
    "ax = fig.add_subplot(1,1,1, projection=cartopy.crs.PlateCarree())\n",
    "ax.stock_img()\n",
    "plt.scatter(x=[lon], y=[lat],\n",
    "            color=\"brown\",\n",
    "            s=10,\n",
    "            alpha=1,\n",
    "            transform=cartopy.crs.PlateCarree())\n",
    "\n",
    "ax.add_feature(cartopy.feature.COASTLINE, edgecolor=\"dodgerblue\")\n",
    "ax.add_feature(cartopy.feature.BORDERS, edgecolor=\"green\")\n",
    "\n",
    "ax.set_title('Earth Meteorite Landings', fontsize=30)\n",
    "ax.set_global()\n",
    "\n",
    "\n",
    "plt.show()\n"
   ]
  },
  {
   "cell_type": "markdown",
   "metadata": {},
   "source": [
    "# 1. Distribution of Meteorite by reclass"
   ]
  },
  {
   "cell_type": "code",
   "execution_count": 47,
   "metadata": {},
   "outputs": [
    {
     "data": {
      "text/plain": [
       "Text(0.5, 1.0, 'Occurence of Different Types of Meteorite')"
      ]
     },
     "execution_count": 47,
     "metadata": {},
     "output_type": "execute_result"
    },
    {
     "data": {
      "image/png": "[encoded data removed]",
      "text/plain": [
       "<Figure size 432x432 with 1 Axes>"
      ]
     },
     "metadata": {},
     "output_type": "display_data"
    }
   ],
   "source": [
    "diff_rec = new_df['recclass'].value_counts()\n",
    "diff_rec[diff_rec > 50].plot.pie(autopct='%.2f',figsize=(6,6))\n",
    "plt.title('Occurence of Different Types of Meteorite', fontsize=12)"
   ]
  },
  {
   "cell_type": "code",
   "execution_count": 18,
   "metadata": {},
   "outputs": [],
   "source": [
    "L6 = new_df[new_df.recclass=='L6']\n",
    "H5 = new_df[new_df.recclass=='H5']"
   ]
  },
  {
   "cell_type": "code",
   "execution_count": 45,
   "metadata": {},
   "outputs": [
    {
     "data": {
      "text/plain": [
       "<function matplotlib.pyplot.show(close=None, block=None)>"
      ]
     },
     "execution_count": 45,
     "metadata": {},
     "output_type": "execute_result"
    },
    {
     "data": {
      "image/png": "[encoded data removed]",
      "text/plain": [
       "<Figure size 1080x504 with 2 Axes>"
      ]
     },
     "metadata": {
      "needs_background": "light"
     },
     "output_type": "display_data"
    }
   ],
   "source": [
    "plt.figure(figsize=(15,7))\n",
    "\n",
    "plt.subplot(221)\n",
    "plt.hist(L6.year.values,bins=np.arange(1900,2014,2),lw=2,histtype='step')\n",
    "plt.ylabel('L6')\n",
    "plt.xticks(np.arange(1900,2015,10))\n",
    "\n",
    "plt.subplot(222)\n",
    "plt.hist(H5.year.values,bins=np.arange(1900,2014,2),lw=2,histtype='step')\n",
    "plt.ylabel('H5')\n",
    "plt.xticks(np.arange(1900,2015,10))\n",
    "plt.show"
   ]
  },
  {
   "cell_type": "code",
   "execution_count": 54,
   "metadata": {},
   "outputs": [
    {
     "ename": "ValueError",
     "evalue": "Single argument to subplot must be a three-digit integer, not 2",
     "output_type": "error",
     "traceback": [
      "\u001b[0;31m---------------------------------------------------------------------------\u001b[0m",
      "\u001b[0;31mValueError\u001b[0m                                Traceback (most recent call last)",
      "\u001b[0;32m<ipython-input-54-a8d6582bcc31>\u001b[0m in \u001b[0;36m<module>\u001b[0;34m\u001b[0m\n\u001b[0;32m----> 1\u001b[0;31m \u001b[0mplt\u001b[0m\u001b[0;34m.\u001b[0m\u001b[0msubplot\u001b[0m\u001b[0;34m(\u001b[0m\u001b[0;36m2\u001b[0m\u001b[0;34m)\u001b[0m\u001b[0;34m\u001b[0m\u001b[0;34m\u001b[0m\u001b[0m\n\u001b[0m\u001b[1;32m      2\u001b[0m \u001b[0mnew_df\u001b[0m\u001b[0;34m.\u001b[0m\u001b[0myear\u001b[0m\u001b[0;34m.\u001b[0m\u001b[0mhist\u001b[0m\u001b[0;34m(\u001b[0m\u001b[0mbins\u001b[0m\u001b[0;34m=\u001b[0m\u001b[0mnp\u001b[0m\u001b[0;34m.\u001b[0m\u001b[0marange\u001b[0m\u001b[0;34m(\u001b[0m\u001b[0;36m1900\u001b[0m\u001b[0;34m,\u001b[0m\u001b[0;36m2018\u001b[0m\u001b[0;34m,\u001b[0m\u001b[0;36m1\u001b[0m\u001b[0;34m)\u001b[0m\u001b[0;34m,\u001b[0m\u001b[0mfigsize\u001b[0m\u001b[0;34m=\u001b[0m\u001b[0;34m(\u001b[0m\u001b[0;36m14\u001b[0m\u001b[0;34m,\u001b[0m\u001b[0;36m8\u001b[0m\u001b[0;34m)\u001b[0m\u001b[0;34m,\u001b[0m\u001b[0mhisttype\u001b[0m\u001b[0;34m=\u001b[0m\u001b[0;34m'step'\u001b[0m\u001b[0;34m)\u001b[0m\u001b[0;34m\u001b[0m\u001b[0;34m\u001b[0m\u001b[0m\n\u001b[1;32m      3\u001b[0m \u001b[0mplt\u001b[0m\u001b[0;34m.\u001b[0m\u001b[0mtitle\u001b[0m\u001b[0;34m(\u001b[0m\u001b[0;34m'Discoveries Per Year'\u001b[0m\u001b[0;34m)\u001b[0m\u001b[0;34m\u001b[0m\u001b[0;34m\u001b[0m\u001b[0m\n\u001b[1;32m      4\u001b[0m \u001b[0mplt\u001b[0m\u001b[0;34m.\u001b[0m\u001b[0mxlim\u001b[0m\u001b[0;34m(\u001b[0m\u001b[0;36m1900\u001b[0m\u001b[0;34m,\u001b[0m\u001b[0;36m2018\u001b[0m\u001b[0;34m)\u001b[0m\u001b[0;34m\u001b[0m\u001b[0;34m\u001b[0m\u001b[0m\n\u001b[1;32m      5\u001b[0m \u001b[0;34m\u001b[0m\u001b[0m\n",
      "\u001b[0;32m/opt/conda/lib/python3.8/site-packages/matplotlib/pyplot.py\u001b[0m in \u001b[0;36msubplot\u001b[0;34m(*args, **kwargs)\u001b[0m\n\u001b[1;32m   1140\u001b[0m \u001b[0;34m\u001b[0m\u001b[0m\n\u001b[1;32m   1141\u001b[0m     \u001b[0mfig\u001b[0m \u001b[0;34m=\u001b[0m \u001b[0mgcf\u001b[0m\u001b[0;34m(\u001b[0m\u001b[0;34m)\u001b[0m\u001b[0;34m\u001b[0m\u001b[0;34m\u001b[0m\u001b[0m\n\u001b[0;32m-> 1142\u001b[0;31m     \u001b[0max\u001b[0m \u001b[0;34m=\u001b[0m \u001b[0mfig\u001b[0m\u001b[0;34m.\u001b[0m\u001b[0madd_subplot\u001b[0m\u001b[0;34m(\u001b[0m\u001b[0;34m*\u001b[0m\u001b[0margs\u001b[0m\u001b[0;34m,\u001b[0m \u001b[0;34m**\u001b[0m\u001b[0mkwargs\u001b[0m\u001b[0;34m)\u001b[0m\u001b[0;34m\u001b[0m\u001b[0;34m\u001b[0m\u001b[0m\n\u001b[0m\u001b[1;32m   1143\u001b[0m     \u001b[0mbbox\u001b[0m \u001b[0;34m=\u001b[0m \u001b[0max\u001b[0m\u001b[0;34m.\u001b[0m\u001b[0mbbox\u001b[0m\u001b[0;34m\u001b[0m\u001b[0;34m\u001b[0m\u001b[0m\n\u001b[1;32m   1144\u001b[0m     \u001b[0maxes_to_delete\u001b[0m \u001b[0;34m=\u001b[0m \u001b[0;34m[\u001b[0m\u001b[0;34m]\u001b[0m\u001b[0;34m\u001b[0m\u001b[0;34m\u001b[0m\u001b[0m\n",
      "\u001b[0;32m/opt/conda/lib/python3.8/site-packages/matplotlib/figure.py\u001b[0m in \u001b[0;36madd_subplot\u001b[0;34m(self, *args, **kwargs)\u001b[0m\n\u001b[1;32m   1400\u001b[0m                     \u001b[0;31m# more similar to add_axes.\u001b[0m\u001b[0;34m\u001b[0m\u001b[0;34m\u001b[0m\u001b[0;34m\u001b[0m\u001b[0m\n\u001b[1;32m   1401\u001b[0m                     \u001b[0mself\u001b[0m\u001b[0;34m.\u001b[0m\u001b[0m_axstack\u001b[0m\u001b[0;34m.\u001b[0m\u001b[0mremove\u001b[0m\u001b[0;34m(\u001b[0m\u001b[0max\u001b[0m\u001b[0;34m)\u001b[0m\u001b[0;34m\u001b[0m\u001b[0;34m\u001b[0m\u001b[0m\n\u001b[0;32m-> 1402\u001b[0;31m             \u001b[0max\u001b[0m \u001b[0;34m=\u001b[0m \u001b[0msubplot_class_factory\u001b[0m\u001b[0;34m(\u001b[0m\u001b[0mprojection_class\u001b[0m\u001b[0;34m)\u001b[0m\u001b[0;34m(\u001b[0m\u001b[0mself\u001b[0m\u001b[0;34m,\u001b[0m \u001b[0;34m*\u001b[0m\u001b[0margs\u001b[0m\u001b[0;34m,\u001b[0m \u001b[0;34m**\u001b[0m\u001b[0mkwargs\u001b[0m\u001b[0;34m)\u001b[0m\u001b[0;34m\u001b[0m\u001b[0;34m\u001b[0m\u001b[0m\n\u001b[0m\u001b[1;32m   1403\u001b[0m \u001b[0;34m\u001b[0m\u001b[0m\n\u001b[1;32m   1404\u001b[0m         \u001b[0;32mreturn\u001b[0m \u001b[0mself\u001b[0m\u001b[0;34m.\u001b[0m\u001b[0m_add_axes_internal\u001b[0m\u001b[0;34m(\u001b[0m\u001b[0mkey\u001b[0m\u001b[0;34m,\u001b[0m \u001b[0max\u001b[0m\u001b[0;34m)\u001b[0m\u001b[0;34m\u001b[0m\u001b[0;34m\u001b[0m\u001b[0m\n",
      "\u001b[0;32m/opt/conda/lib/python3.8/site-packages/matplotlib/axes/_subplots.py\u001b[0m in \u001b[0;36m__init__\u001b[0;34m(self, fig, *args, **kwargs)\u001b[0m\n\u001b[1;32m     37\u001b[0m \u001b[0;34m\u001b[0m\u001b[0m\n\u001b[1;32m     38\u001b[0m         \u001b[0mself\u001b[0m\u001b[0;34m.\u001b[0m\u001b[0mfigure\u001b[0m \u001b[0;34m=\u001b[0m \u001b[0mfig\u001b[0m\u001b[0;34m\u001b[0m\u001b[0;34m\u001b[0m\u001b[0m\n\u001b[0;32m---> 39\u001b[0;31m         \u001b[0mself\u001b[0m\u001b[0;34m.\u001b[0m\u001b[0m_subplotspec\u001b[0m \u001b[0;34m=\u001b[0m \u001b[0mSubplotSpec\u001b[0m\u001b[0;34m.\u001b[0m\u001b[0m_from_subplot_args\u001b[0m\u001b[0;34m(\u001b[0m\u001b[0mfig\u001b[0m\u001b[0;34m,\u001b[0m \u001b[0margs\u001b[0m\u001b[0;34m)\u001b[0m\u001b[0;34m\u001b[0m\u001b[0;34m\u001b[0m\u001b[0m\n\u001b[0m\u001b[1;32m     40\u001b[0m         \u001b[0mself\u001b[0m\u001b[0;34m.\u001b[0m\u001b[0mupdate_params\u001b[0m\u001b[0;34m(\u001b[0m\u001b[0;34m)\u001b[0m\u001b[0;34m\u001b[0m\u001b[0;34m\u001b[0m\u001b[0m\n\u001b[1;32m     41\u001b[0m         \u001b[0;31m# _axes_class is set in the subplot_class_factory\u001b[0m\u001b[0;34m\u001b[0m\u001b[0;34m\u001b[0m\u001b[0;34m\u001b[0m\u001b[0m\n",
      "\u001b[0;32m/opt/conda/lib/python3.8/site-packages/matplotlib/gridspec.py\u001b[0m in \u001b[0;36m_from_subplot_args\u001b[0;34m(figure, args)\u001b[0m\n\u001b[1;32m    664\u001b[0m                     \u001b[0mrows\u001b[0m\u001b[0;34m,\u001b[0m \u001b[0mcols\u001b[0m\u001b[0;34m,\u001b[0m \u001b[0mnum\u001b[0m \u001b[0;34m=\u001b[0m \u001b[0mmap\u001b[0m\u001b[0;34m(\u001b[0m\u001b[0mint\u001b[0m\u001b[0;34m,\u001b[0m \u001b[0mstr\u001b[0m\u001b[0;34m(\u001b[0m\u001b[0marg\u001b[0m\u001b[0;34m)\u001b[0m\u001b[0;34m)\u001b[0m\u001b[0;34m\u001b[0m\u001b[0;34m\u001b[0m\u001b[0m\n\u001b[1;32m    665\u001b[0m                 \u001b[0;32mexcept\u001b[0m \u001b[0mValueError\u001b[0m\u001b[0;34m:\u001b[0m\u001b[0;34m\u001b[0m\u001b[0;34m\u001b[0m\u001b[0m\n\u001b[0;32m--> 666\u001b[0;31m                     raise ValueError(\n\u001b[0m\u001b[1;32m    667\u001b[0m                         \u001b[0;34mf\"Single argument to subplot must be a three-digit \"\u001b[0m\u001b[0;34m\u001b[0m\u001b[0;34m\u001b[0m\u001b[0m\n\u001b[1;32m    668\u001b[0m                         f\"integer, not {arg}\") from None\n",
      "\u001b[0;31mValueError\u001b[0m: Single argument to subplot must be a three-digit integer, not 2"
     ]
    },
    {
     "data": {
      "text/plain": [
       "<Figure size 432x288 with 0 Axes>"
      ]
     },
     "metadata": {},
     "output_type": "display_data"
    }
   ],
   "source": [
    "plt.subplot(2)\n",
    "new_df.year.hist(bins=np.arange(1900,2018,1),figsize=(14,8),histtype='step')\n",
    "plt.title('Discoveries Per Year')\n",
    "plt.xlim(1900,2018)\n",
    "\n",
    "plt.subplot(2)\n",
    "new_df.year.hist(bins=np.arange(1900,2018,10),figsize=(14,8),histtype='stepfilled')\n",
    "plt.title('Discoveries Per Decade')\n",
    "plt.xlim(1900,2018)"
   ]
  },
  {
   "cell_type": "code",
   "execution_count": null,
   "metadata": {},
   "outputs": [],
   "source": []
  }
 ],
 "metadata": {
  "kernelspec": {
   "display_name": "Python 3",
   "language": "python",
   "name": "python3"
  },
  "language_info": {
   "codemirror_mode": {
    "name": "ipython",
    "version": 3
   },
   "file_extension": ".py",
   "mimetype": "text/x-python",
   "name": "python",
   "nbconvert_exporter": "python",
   "pygments_lexer": "ipython3",
   "version": "3.8.5"
  }
 },
 "nbformat": 4,
 "nbformat_minor": 5
}
